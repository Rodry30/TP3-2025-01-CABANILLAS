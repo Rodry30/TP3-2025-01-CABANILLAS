{
 "cells": [
  {
   "cell_type": "markdown",
   "id": "97777bea-58a3-46c4-abc9-e1514ad8f90b",
   "metadata": {},
   "source": [
    "# Semana02\n",
    "Rodrigo Cabanillas"
   ]
  },
  {
   "cell_type": "markdown",
   "id": "827de007-7931-4ac3-a4d0-d625be70bfe5",
   "metadata": {},
   "source": [
    "TEMAS\n",
    "1- Coleccion de datos"
   ]
  },
  {
   "cell_type": "code",
   "execution_count": 2,
   "id": "f7fa69e5-a593-4e28-8d8e-82a081ea5da5",
   "metadata": {},
   "outputs": [],
   "source": [
    "#1.1 lISTAS\n",
    "#cOLECCION DE ELEMENTOS que puede ser ordenada, modificada,etc\n",
    "#Ejemplos\n",
    "aula=['Alaluna','Avila','Cabanillas']\n"
   ]
  },
  {
   "cell_type": "code",
   "execution_count": 5,
   "id": "04616d62-62ec-4796-bce9-59532d519df1",
   "metadata": {},
   "outputs": [
    {
     "data": {
      "text/plain": [
       "'Cabanillas'"
      ]
     },
     "execution_count": 5,
     "metadata": {},
     "output_type": "execute_result"
    }
   ],
   "source": [
    "aula[2]"
   ]
  },
  {
   "cell_type": "code",
   "execution_count": 6,
   "id": "7d6bcc9e-dd55-4591-a0ff-4e522ddab0d4",
   "metadata": {},
   "outputs": [],
   "source": [
    "aula[1]='chavez'"
   ]
  },
  {
   "cell_type": "code",
   "execution_count": 7,
   "id": "030b4f2b-a0c3-4dcf-9435-d8400cd8fed8",
   "metadata": {},
   "outputs": [
    {
     "data": {
      "text/plain": [
       "'chavez'"
      ]
     },
     "execution_count": 7,
     "metadata": {},
     "output_type": "execute_result"
    }
   ],
   "source": [
    "aula[1]"
   ]
  },
  {
   "cell_type": "code",
   "execution_count": 8,
   "id": "8fb572fd-f7a1-4a6a-b625-c966f099c548",
   "metadata": {},
   "outputs": [
    {
     "data": {
      "text/plain": [
       "['Alaluna', 'chavez', 'Cabanillas']"
      ]
     },
     "execution_count": 8,
     "metadata": {},
     "output_type": "execute_result"
    }
   ],
   "source": [
    "aula"
   ]
  },
  {
   "cell_type": "code",
   "execution_count": 12,
   "id": "81340925-823b-4688-9c93-6681be2a92a1",
   "metadata": {},
   "outputs": [],
   "source": [
    "aula.append('Gomez')"
   ]
  },
  {
   "cell_type": "code",
   "execution_count": 13,
   "id": "7b584627-4fac-4756-a8d4-f2d6df22c7b2",
   "metadata": {},
   "outputs": [
    {
     "data": {
      "text/plain": [
       "'Gomez'"
      ]
     },
     "execution_count": 13,
     "metadata": {},
     "output_type": "execute_result"
    }
   ],
   "source": [
    "aula[4]"
   ]
  },
  {
   "cell_type": "code",
   "execution_count": 14,
   "id": "7a0eb273-86ce-4cec-946e-4269f13c7d2a",
   "metadata": {},
   "outputs": [
    {
     "data": {
      "text/plain": [
       "['Alaluna', 'chavez', 'Cabanillas', 'Gomez', 'Gomez']"
      ]
     },
     "execution_count": 14,
     "metadata": {},
     "output_type": "execute_result"
    }
   ],
   "source": [
    "aula"
   ]
  },
  {
   "cell_type": "code",
   "execution_count": null,
   "id": "084045c3-218d-4744-9054-ea12d133afd9",
   "metadata": {},
   "outputs": [],
   "source": []
  }
 ],
 "metadata": {
  "kernelspec": {
   "display_name": "Python 3 (ipykernel)",
   "language": "python",
   "name": "python3"
  },
  "language_info": {
   "codemirror_mode": {
    "name": "ipython",
    "version": 3
   },
   "file_extension": ".py",
   "mimetype": "text/x-python",
   "name": "python",
   "nbconvert_exporter": "python",
   "pygments_lexer": "ipython3",
   "version": "3.12.7"
  }
 },
 "nbformat": 4,
 "nbformat_minor": 5
}
