{
 "cells": [
  {
   "cell_type": "code",
   "execution_count": 5,
   "id": "8e28c277-44bc-4f17-8758-ca93dfb4ae5a",
   "metadata": {},
   "outputs": [
    {
     "name": "stdin",
     "output_type": "stream",
     "text": [
      "Ingresa un nombre para buscar:  CaBaLLero\n"
     ]
    },
    {
     "name": "stdout",
     "output_type": "stream",
     "text": [
      "El nombre 'CABALLERO' SÍ se encuentra en la lista.\n"
     ]
    }
   ],
   "source": [
    "# Lista de alumnos\n",
    "alumnos = [\n",
    "    \"BERNAL\", \"BERNAOLA\", \"CABALLERO\", \"CALDERON\", \"CARRASCO\", \"CENTENO\",\n",
    "    \"CHALQUE\", \"CHAVEZ\", \"CONDORI\", \"CRUZ\", \"PALACIOS\", \"PALOMINO\",\n",
    "    \"QUISPE\", \"RAMOS\", \"RODAS\", \"SILVERA\", \"TALAVERA\", \"TINEO\",\n",
    "    \"VICTORIO\", \"VILCA\", \"ZEA\"\n",
    "]\n",
    "\n",
    "# Ingreso de nombre por teclado\n",
    "nombre_ingresado = input(\"Ingresa un nombre para buscar: \").strip().upper()\n",
    "\n",
    "# Búsqueda del nombre en la lista\n",
    "if nombre_ingresado in alumnos:\n",
    "    print(f\"El nombre '{nombre_ingresado}' SÍ se encuentra en la lista.\")\n",
    "else:\n",
    "    print(f\"El nombre '{nombre_ingresado}' NO se encuentra en la lista.\")\n"
   ]
  },
  {
   "cell_type": "code",
   "execution_count": null,
   "id": "dabb6954-e051-4f78-993d-434c01b7b5bd",
   "metadata": {},
   "outputs": [],
   "source": []
  }
 ],
 "metadata": {
  "kernelspec": {
   "display_name": "Python [conda env:base] *",
   "language": "python",
   "name": "conda-base-py"
  },
  "language_info": {
   "codemirror_mode": {
    "name": "ipython",
    "version": 3
   },
   "file_extension": ".py",
   "mimetype": "text/x-python",
   "name": "python",
   "nbconvert_exporter": "python",
   "pygments_lexer": "ipython3",
   "version": "3.12.7"
  }
 },
 "nbformat": 4,
 "nbformat_minor": 5
}
